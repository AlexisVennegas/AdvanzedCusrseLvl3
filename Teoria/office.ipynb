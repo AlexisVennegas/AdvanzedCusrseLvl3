{
 "cells": [
  {
   "cell_type": "markdown",
   "metadata": {},
   "source": [
    "# Capítulo V: Transferencia de Ficheros\n",
    "\n",
    "Existen varias formas de transferir ficheros entre máquinas. A continuación, se describen las más comunes:\n",
    "\n",
    "## Transferencia en Redes Locales\n",
    "- **Protocolos**: \n",
    "  - **SMB (Server Message Block)**: Utilizado en Windows y Unix; también conocido como CIFS (Common Internet File System). Permite compartir carpetas e impresoras.\n",
    "  - **NFS (Network File System)**: Popular en máquinas Unix.\n",
    "- **SMB 3.0**: Presente en Windows 8 y Server 2012, mejora rendimiento y funcionalidades.\n",
    "- **Samba**: Implementación de SMB/CIFS en Unix. Se configura mediante ficheros o herramientas gráficas como Swat.\n",
    "\n",
    "## Transferencia mediante FTP\n",
    "- **Protocolo**: Creado en 1971 para transferencias bajo arquitectura cliente-servidor.\n",
    "- **Autenticación**: Envía credenciales sin cifrar, aunque admite acceso anónimo y versiones seguras como **FTPS** o **SFTP**.\n",
    "- **Uso**: Popular en servidores web para gestionar archivos HTML. Navegadores como Firefox soportan extensiones como FireFTP para facilitar transferencias.\n",
    "\n",
    "## Transferencia mediante HTTP\n",
    "- **Características**:\n",
    "  - Eficiente para ficheros pequeños.\n",
    "  - Generalmente no bloqueado por firewalls (puertos 80 y 443).\n",
    "  - Admite compresión de datos, agilizando la transferencia.\n",
    "- **Ventajas**: Menos problemas con proxys en comparación con FTP.\n",
    "\n",
    "## Transferencia Peer-to-Peer (P2P)\n",
    "- **Redes P2P**: Sin paradigma cliente-servidor; las máquinas actúan como cliente y servidor simultáneamente.\n",
    "- **Ventajas**: \n",
    "  - Aprovechan el ancho de banda de los usuarios.\n",
    "  - Mayor velocidad de descarga.\n",
    "- **Problemas**: Uso indebido para compartir archivos protegidos por derechos de autor.\n",
    "- **Ejemplo**: Clientes como BitTorrent.\n",
    "\n"
   ]
  }
 ],
 "metadata": {
  "language_info": {
   "name": "python"
  }
 },
 "nbformat": 4,
 "nbformat_minor": 2
}
