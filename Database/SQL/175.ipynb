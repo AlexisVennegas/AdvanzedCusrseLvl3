{
 "cells": [
  {
   "cell_type": "markdown",
   "metadata": {},
   "source": [
    "# Capítulo I. Introducción a las bases de datos\n",
    "\n",
    "## ¿Qué es una BBDD?\n",
    "Según Wikipedia:  \n",
    "\"Una base de datos es un conjunto de datos pertenecientes a un mismo contexto y almacenados sistemáticamente para su posterior uso.\"  \n",
    "\n",
    "### Limitaciones de esta definición:\n",
    "1. **Más que un simple conjunto de datos:**  \n",
    "   Una base de datos informática es una **aplicación informática** o software de aplicación, diseñado para realizar funciones específicas, como un procesador de texto o un navegador.\n",
    "\n",
    "2. **Objetivo principal:**  \n",
    "   Almacenar datos con un fin claro:\n",
    "   - **Relacionales:**  \n",
    "     Enfocadas en la estructuración y selección eficaz y fiable de datos.  \n",
    "   - **No relacionales:**  \n",
    "     Priorizan el almacenamiento rápido y el manejo de grandes volúmenes de datos, sacrificando la estructura.\n"
   ]
  },
  {
   "cell_type": "markdown",
   "metadata": {},
   "source": [
    "# Ventajas y desventajas de las BBDD relacionales\n",
    "\n",
    "## Ventajas\n",
    "- **Independencia de datos y programas:**  \n",
    "  Permite modificar los datos sin afectar el código de las aplicaciones.  \n",
    "- **Menor redundancia:**  \n",
    "  Evita la repetición de datos, indicando únicamente cómo se relacionan.  \n",
    "- **Más información con los mismos datos:**  \n",
    "  Facilita obtener más información gracias a su estructura eficiente.  \n",
    "- **Integridad de los datos:**  \n",
    "  Reduce la posibilidad de pérdida de información o incoherencias.  \n",
    "- **Mayor seguridad:**  \n",
    "  Permite restringir el acceso según los permisos de cada usuario.  \n",
    "- **Coherencia de los resultados:**  \n",
    "  Al almacenar la información una sola vez, los resultados son consistentes.  \n",
    "- **Documentación mejorada:**  \n",
    "  Gracias a los metadatos que describen la información de la base de datos.  \n",
    "- **Acceso simultáneo:**  \n",
    "  Controla el acceso concurrente de múltiples usuarios.  \n",
    "- **Reducción del espacio de almacenamiento:**  \n",
    "  Mejor estructuración que optimiza el uso del espacio.  \n",
    "- **Eficiencia en el acceso:**  \n",
    "  Organización de datos que mejora el rendimiento y facilita el acceso remoto.  \n",
    "- **Estandarización:**  \n",
    "  Simplifica procesos y nombres, promoviendo uniformidad.  \n",
    "- **Flexibilidad y rapidez:**  \n",
    "  Permite obtener datos con consultas breves, evitando largos procesos manuales.\n",
    "\n",
    "---\n",
    "\n",
    "## Desventajas\n",
    "- **Ausencia de estándares reales:**  \n",
    "  Dependencia de sistemas comerciales del mercado.  \n",
    "- **Personal cualificado necesario:**  \n",
    "  Requiere capacitación especializada para programadores y analistas.  \n",
    "- **Costos elevados de instalación:**  \n",
    "  Software, hardware y mantenimiento de Sistemas Gestores de Bases de Datos (SGBD).  \n",
    "- **Falta de rentabilidad a corto plazo:**  \n",
    "  Altos costos iniciales en equipos, personal y tiempo de implementación.  \n",
    "- **Tamaño:**  \n",
    "  Los DBMS requieren mucho espacio en disco y memoria RAM.  \n",
    "- **Requerimientos adicionales de equipo:**  \n",
    "  Servidores, discos duros y memoria extra son necesarios para un buen desempeño.\n",
    "\n",
    "---\n",
    "\n",
    "# Diseños, Modelos y Niveles de la BBDD\n",
    "\n",
    "## Conceptos clave:\n",
    "1. **Diseño de la base de datos:**  \n",
    "   Relacionado con la metodología de creación de la base de datos.  \n",
    "2. **Modelos de las bases de datos:**  \n",
    "   Relacionados con la estructura lógica (*la palabra \"lógica\" incluye este concepto*).  \n",
    "3. **Niveles de la base de datos:**  \n",
    "   Relacionados con la independencia entre las partes física y lógica.  \n",
    "\n",
    "### **Diseño de la base de datos**  \n",
    "El proceso de construcción de una base de datos sigue varias etapas, conocido como **Metodología de diseño de base de datos**.\n"
   ]
  },
  {
   "cell_type": "markdown",
   "metadata": {},
   "source": [
    "# Modelo de Relación: Profesor y Alumno\n",
    "\n",
    "## Tablas\n",
    "\n",
    "### Tabla: PROFESOR\n",
    "| Campo         | Tipo         | Clave         | Descripción                  |\n",
    "|---------------|--------------|---------------|------------------------------|\n",
    "| profesor_id   | Entero       | PK (Primaria) | Identificador único del profesor. |\n",
    "| Nombre        | Texto        | -             | Nombre del profesor.         |\n",
    "| Especialidad  | Texto        | -             | Área de especialización.     |\n",
    "\n",
    "### Tabla: ALUMNO\n",
    "| Campo         | Tipo         | Clave         | Descripción                  |\n",
    "|---------------|--------------|---------------|------------------------------|\n",
    "| ID_Alumno     | Entero       | PK (Primaria) | Identificador único del alumno. |\n",
    "| Nombre        | Texto        | -             | Nombre del alumno.           |\n",
    "| Edad          | Entero       | -             | Edad del alumno.             |\n",
    "| ID_Profesor   | Entero       | FK (Foránea)  | Referencia al profesor asociado. |\n",
    "\n",
    "## Relación\n",
    "- **Tipo:** 1:N (Uno a Muchos).\n",
    "- **Descripción:**  \n",
    "  - Un profesor puede tener **muchos alumnos**.  \n",
    "  - Cada alumno está asociado a **un solo profesor**.\n"
   ]
  },
  {
   "cell_type": "markdown",
   "metadata": {},
   "source": [
    "si es 0 - 1 la relacion la que tiene 0 la PK tiene que ser NULLEABLE"
   ]
  },
  {
   "cell_type": "markdown",
   "metadata": {},
   "source": [
    "# Subconsultas"
   ]
  },
  {
   "cell_type": "markdown",
   "metadata": {},
   "source": []
  },
  {
   "cell_type": "markdown",
   "metadata": {},
   "source": [
    "```markdown\n",
    "## Tipos de Subconsultas en SQL\n",
    "\n",
    "Las subconsultas en SQL son consultas anidadas dentro de otra consulta principal. Se utilizan para realizar operaciones complejas y obtener resultados específicos. Existen varios tipos de subconsultas en SQL, cada una con sus características y usos particulares:\n",
    "\n",
    "### 1. Subconsultas Escalares\n",
    "Una subconsulta escalar devuelve un solo valor (una sola fila y una sola columna). Se puede utilizar en cualquier lugar donde se permita una expresión de columna única.\n",
    "\n",
    "**Ejemplo:**\n",
    "```sql\n",
    "SELECT nombre, salario\n",
    "FROM empleados\n",
    "WHERE salario > (SELECT AVG(salario) FROM empleados);\n",
    "```\n",
    "En este ejemplo, la subconsulta devuelve el salario promedio de todos los empleados, y la consulta principal selecciona a los empleados cuyo salario es mayor que el promedio.\n",
    "\n",
    "### 2. Subconsultas de Filas\n",
    "Una subconsulta de filas devuelve una sola fila con una o más columnas. Se utiliza en cláusulas `WHERE`, `HAVING` o `FROM`.\n",
    "\n",
    "**Ejemplo:**\n",
    "```sql\n",
    "SELECT nombre, salario\n",
    "FROM empleados\n",
    "WHERE (departamento_id, salario) = (SELECT departamento_id, MAX(salario) FROM empleados GROUP BY departamento_id);\n",
    "```\n",
    "En este ejemplo, la subconsulta devuelve el departamento y el salario máximo de cada departamento, y la consulta principal selecciona a los empleados que coinciden con esos valores.\n",
    "\n",
    "### 3. Subconsultas de Tabla\n",
    "Una subconsulta de tabla devuelve múltiples filas y columnas. Se utiliza en la cláusula `FROM` como una tabla derivada.\n",
    "\n",
    "**Ejemplo:**\n",
    "```sql\n",
    "SELECT depto.nombre, emp.nombre, emp.salario\n",
    "FROM (SELECT departamento_id, MAX(salario) AS max_salario FROM empleados GROUP BY departamento_id) AS max_sal\n",
    "JOIN empleados emp ON emp.departamento_id = max_sal.departamento_id AND emp.salario = max_sal.max_salario\n",
    "JOIN departamentos depto ON depto.id = emp.departamento_id;\n",
    "```\n",
    "En este ejemplo, la subconsulta devuelve el salario máximo por departamento, y la consulta principal une esta información con las tablas de empleados y departamentos para obtener los detalles completos.\n",
    "\n",
    "### 4. Subconsultas Correlacionadas\n",
    "Una subconsulta correlacionada se ejecuta una vez por cada fila de la consulta principal. Depende de los valores de la fila actual de la consulta principal.\n",
    "\n",
    "**Ejemplo:**\n",
    "```sql\n",
    "SELECT nombre, salario\n",
    "FROM empleados emp1\n",
    "WHERE salario > (SELECT AVG(salario) FROM empleados emp2 WHERE emp1.departamento_id = emp2.departamento_id);\n",
    "```\n",
    "En este ejemplo, la subconsulta se ejecuta para cada fila de la consulta principal, calculando el salario promedio de los empleados en el mismo departamento.\n",
    "\n",
    "### 5. Subconsultas en la Cláusula `EXISTS`\n",
    "Las subconsultas en la cláusula `EXISTS` se utilizan para verificar la existencia de filas que cumplen con una condición específica.\n",
    "\n",
    "**Ejemplo:**\n",
    "```sql\n",
    "SELECT nombre\n",
    "FROM departamentos depto\n",
    "WHERE EXISTS (SELECT 1 FROM empleados emp WHERE emp.departamento_id = depto.id);\n",
    "```\n",
    "En este ejemplo, la consulta principal selecciona los nombres de los departamentos que tienen al menos un empleado asociado.\n",
    "\n",
    "Las subconsultas son herramientas poderosas en SQL que permiten realizar consultas complejas y obtener resultados precisos. Comprender los diferentes tipos de subconsultas y cómo utilizarlas es esencial para trabajar eficientemente con bases de datos.\n",
    "```"
   ]
  },
  {
   "cell_type": "markdown",
   "metadata": {},
   "source": [
    "## Explicación de las Subconsultas de Selección\n",
    "\n",
    "Las subconsultas de selección son consultas anidadas dentro de una consulta principal que permiten realizar operaciones complejas y obtener resultados específicos. A continuación, se detallan los diferentes tipos de subconsultas de selección y sus usos:\n",
    "\n",
    "### 1. Subconsultas Escalares\n",
    "Devuelven un solo valor (una fila y una columna). Se utilizan donde se permite una expresión de columna única.\n",
    "\n",
    "**Ejemplo:**"
   ]
  },
  {
   "attachments": {
    "image.png": {
     "image/png": "[encoded data removed]"
    }
   },
   "cell_type": "markdown",
   "metadata": {},
   "source": [
    "![image.png](attachment:image.png)\n",
    "\n",
    "CUANDO SE EJECUTA LO DE ARRIBA NO TE PONE RESTRICCIONES NI PK, NI NADA"
   ]
  },
  {
   "cell_type": "markdown",
   "metadata": {},
   "source": []
  }
 ],
 "metadata": {
  "kernelspec": {
   "display_name": "Python 3",
   "language": "python",
   "name": "python3"
  },
  "language_info": {
   "name": "python",
   "version": "3.11.1"
  }
 },
 "nbformat": 4,
 "nbformat_minor": 2
}
